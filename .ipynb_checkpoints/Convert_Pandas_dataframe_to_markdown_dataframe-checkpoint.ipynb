{
 "cells": [
  {
   "cell_type": "markdown",
   "metadata": {},
   "source": [
    "Convert a pandas dataframe to a markdown dataframe"
   ]
  },
  {
   "cell_type": "code",
   "execution_count": null,
   "metadata": {},
   "outputs": [],
   "source": [
    "import pandas as pd\n",
    "\n",
    "support = pd.read_csv('support.csv').drop('Unnamed: 0',axis=1)\n",
    "support.index = support.index+1\n",
    "support\n",
    "\n",
    "cols = support.columns\n",
    "df2 = pd.DataFrame([['---',]*len(cols)], columns=cols)\n",
    "\n",
    "#Create a new concatenated DataFrame\n",
    "df3 = pd.concat([df2, support])\n",
    "\n",
    "#Save as markdown\n",
    "df3.to_csv(\"nor.md\", sep=\"|\", index=False)"
   ]
  }
 ],
 "metadata": {
  "kernelspec": {
   "display_name": "Python 3",
   "language": "python",
   "name": "python3"
  },
  "language_info": {
   "codemirror_mode": {
    "name": "ipython",
    "version": 3
   },
   "file_extension": ".py",
   "mimetype": "text/x-python",
   "name": "python",
   "nbconvert_exporter": "python",
   "pygments_lexer": "ipython3",
   "version": "3.6.4"
  }
 },
 "nbformat": 4,
 "nbformat_minor": 2
}
